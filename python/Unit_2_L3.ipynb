{
  "nbformat": 4,
  "nbformat_minor": 0,
  "metadata": {
    "colab": {
      "name": "Unit 2_L3",
      "provenance": []
    },
    "kernelspec": {
      "name": "python3",
      "display_name": "Python 3"
    },
    "language_info": {
      "name": "python"
    }
  },
  "cells": [
    {
      "cell_type": "markdown",
      "source": [
        "# Lesson 3: Working with Lists\n",
        "Name: Emily Chiu"
      ],
      "metadata": {
        "id": "rdcoqGWPVrgI"
      }
    },
    {
      "cell_type": "markdown",
      "source": [
        "\t1. Create a list of 5 of your favorite tv shows."
      ],
      "metadata": {
        "id": "D6WMBHWnWHD2"
      }
    },
    {
      "cell_type": "code",
      "execution_count": null,
      "metadata": {
        "colab": {
          "base_uri": "https://localhost:8080/"
        },
        "id": "glQsZqzOVoM1",
        "outputId": "eab736a1-99de-4e39-e8f5-5215cb5fc019"
      },
      "outputs": [
        {
          "output_type": "stream",
          "name": "stdout",
          "text": [
            "['Friends', 'The Office', 'You', 'WandaVision', 'Loki']\n"
          ]
        }
      ],
      "source": [
        "tv_shows = ['Friends','The Office','You','WandaVision','Loki']\n",
        "print(tv_shows)"
      ]
    },
    {
      "cell_type": "markdown",
      "source": [
        "\t2. Print the list in its original order."
      ],
      "metadata": {
        "id": "Kh5mV5G4WU3L"
      }
    },
    {
      "cell_type": "code",
      "source": [
        "print(tv_shows)"
      ],
      "metadata": {
        "colab": {
          "base_uri": "https://localhost:8080/"
        },
        "id": "y1knAioZX04G",
        "outputId": "159957a5-9523-4d94-f981-a16bcd03d488"
      },
      "execution_count": null,
      "outputs": [
        {
          "output_type": "stream",
          "name": "stdout",
          "text": [
            "['Friends', 'The Office', 'You', 'WandaVision', 'Loki']\n"
          ]
        }
      ]
    },
    {
      "cell_type": "markdown",
      "source": [
        "\t3. Use the sorted() function to print the list in alphabetical order.  How is sorted() different from sort()?"
      ],
      "metadata": {
        "id": "fKzuLvhqWWpt"
      }
    },
    {
      "cell_type": "code",
      "source": [
        "print(sorted(tv_shows))"
      ],
      "metadata": {
        "colab": {
          "base_uri": "https://localhost:8080/"
        },
        "id": "JkOXw28qX28u",
        "outputId": "6ba0c942-9bfd-441e-c481-1e9cb6ec5d2c"
      },
      "execution_count": null,
      "outputs": [
        {
          "output_type": "stream",
          "name": "stdout",
          "text": [
            "['Friends', 'Loki', 'The Office', 'WandaVision', 'You']\n"
          ]
        }
      ]
    },
    {
      "cell_type": "markdown",
      "source": [
        "sorted() is different from sort() because this is temporary. sort() permanently sorts the list."
      ],
      "metadata": {
        "id": "Jiivv_8kZC9z"
      }
    },
    {
      "cell_type": "markdown",
      "source": [
        "\t4. Print out your original list."
      ],
      "metadata": {
        "id": "UxbzmeNkWZRj"
      }
    },
    {
      "cell_type": "code",
      "source": [
        "print(tv_shows)"
      ],
      "metadata": {
        "colab": {
          "base_uri": "https://localhost:8080/"
        },
        "id": "dxzd3gFlZLwl",
        "outputId": "0b1b242c-7039-44f5-c20b-e8351372cc7c"
      },
      "execution_count": null,
      "outputs": [
        {
          "output_type": "stream",
          "name": "stdout",
          "text": [
            "['Friends', 'The Office', 'You', 'WandaVision', 'Loki']\n"
          ]
        }
      ]
    },
    {
      "cell_type": "markdown",
      "source": [
        "\t5. Used sorted() to print your list in reverse alphabetical order."
      ],
      "metadata": {
        "id": "r_hx8vsSWgu7"
      }
    },
    {
      "cell_type": "code",
      "source": [
        "print(sorted(tv_shows,reverse=True))"
      ],
      "metadata": {
        "colab": {
          "base_uri": "https://localhost:8080/"
        },
        "id": "nF-tfXs_ZObQ",
        "outputId": "5a32f5f5-a362-41c0-f8fe-cf70a3e2e7a3"
      },
      "execution_count": null,
      "outputs": [
        {
          "output_type": "stream",
          "name": "stdout",
          "text": [
            "['You', 'WandaVision', 'The Office', 'Loki', 'Friends']\n"
          ]
        }
      ]
    },
    {
      "cell_type": "markdown",
      "source": [
        "\t6. Create a message indicating how many favorite TV shows you have – use the len() function."
      ],
      "metadata": {
        "id": "uzv8nqHBWieb"
      }
    },
    {
      "cell_type": "code",
      "source": [
        "len(tv_shows)"
      ],
      "metadata": {
        "id": "yQx65IPwZrf9",
        "outputId": "5ec6eb46-4c5e-4de4-932b-fc162d45b57b",
        "colab": {
          "base_uri": "https://localhost:8080/"
        }
      },
      "execution_count": null,
      "outputs": [
        {
          "output_type": "execute_result",
          "data": {
            "text/plain": [
              "5"
            ]
          },
          "metadata": {},
          "execution_count": 18
        }
      ]
    }
  ]
}
