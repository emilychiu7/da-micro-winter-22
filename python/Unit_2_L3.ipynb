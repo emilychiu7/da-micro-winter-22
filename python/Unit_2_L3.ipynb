{
  "nbformat": 4,
  "nbformat_minor": 0,
  "metadata": {
    "colab": {
      "name": "Unit 2_L3",
      "provenance": []
    },
    "kernelspec": {
      "name": "python3",
      "display_name": "Python 3"
    },
    "language_info": {
      "name": "python"
    }
  },
  "cells": [
    {
      "cell_type": "markdown",
      "source": [
        "# Lesson 3: Working with Lists\n",
        "Name: Emily Chiu"
      ],
      "metadata": {
        "id": "rdcoqGWPVrgI"
      }
    },
    {
      "cell_type": "markdown",
      "source": [
        "1. Create a list of 5 of your favorite tv shows."
      ],
      "metadata": {
        "id": "D6WMBHWnWHD2"
      }
    },
    {
      "cell_type": "code",
      "execution_count": 5,
      "metadata": {
        "colab": {
          "base_uri": "https://localhost:8080/"
        },
        "id": "glQsZqzOVoM1",
        "outputId": "f806d500-ff4a-4638-eedb-ce0ad940a8c8"
      },
      "outputs": [
        {
          "output_type": "stream",
          "name": "stdout",
          "text": [
            "['Friends', 'The Office', 'You', 'WandaVision', 'Loki']\n"
          ]
        }
      ],
      "source": [
        "tv_shows = ['Friends','The Office','You','WandaVision','Loki']\n",
        "print(tv_shows)"
      ]
    },
    {
      "cell_type": "markdown",
      "source": [
        "2.\tPrint the list in its original order."
      ],
      "metadata": {
        "id": "Kh5mV5G4WU3L"
      }
    },
    {
      "cell_type": "code",
      "source": [
        "print(tv_shows)"
      ],
      "metadata": {
        "colab": {
          "base_uri": "https://localhost:8080/"
        },
        "id": "y1knAioZX04G",
        "outputId": "a694bfd8-a32f-4fdd-ae04-2c2ad7170367"
      },
      "execution_count": 6,
      "outputs": [
        {
          "output_type": "stream",
          "name": "stdout",
          "text": [
            "['Friends', 'The Office', 'You', 'WandaVision', 'Loki']\n"
          ]
        }
      ]
    },
    {
      "cell_type": "markdown",
      "source": [
        "3.\tUse the sorted() function to print the list in alphabetical order.  How is sorted() different from sort()?"
      ],
      "metadata": {
        "id": "fKzuLvhqWWpt"
      }
    },
    {
      "cell_type": "code",
      "source": [
        "print(sorted(tv_shows))"
      ],
      "metadata": {
        "colab": {
          "base_uri": "https://localhost:8080/"
        },
        "id": "JkOXw28qX28u",
        "outputId": "70dc6d43-1526-4264-e529-f672a0441245"
      },
      "execution_count": 7,
      "outputs": [
        {
          "output_type": "stream",
          "name": "stdout",
          "text": [
            "['Friends', 'Loki', 'The Office', 'WandaVision', 'You']\n"
          ]
        }
      ]
    },
    {
      "cell_type": "markdown",
      "source": [
        "sorted() is different from sort() because this is temporary. sort() permanently sorts the list."
      ],
      "metadata": {
        "id": "Jiivv_8kZC9z"
      }
    },
    {
      "cell_type": "markdown",
      "source": [
        "4.\tPrint out your original list."
      ],
      "metadata": {
        "id": "UxbzmeNkWZRj"
      }
    },
    {
      "cell_type": "code",
      "source": [
        "print(tv_shows)"
      ],
      "metadata": {
        "colab": {
          "base_uri": "https://localhost:8080/"
        },
        "id": "dxzd3gFlZLwl",
        "outputId": "7b37995e-decf-4681-9f20-2c50b4c80816"
      },
      "execution_count": 8,
      "outputs": [
        {
          "output_type": "stream",
          "name": "stdout",
          "text": [
            "['Friends', 'The Office', 'You', 'WandaVision', 'Loki']\n"
          ]
        }
      ]
    },
    {
      "cell_type": "markdown",
      "source": [
        "5.\tUsed sorted() to print your list in reverse alphabetical order."
      ],
      "metadata": {
        "id": "r_hx8vsSWgu7"
      }
    },
    {
      "cell_type": "code",
      "source": [
        "print(sorted(tv_shows,reverse=True))"
      ],
      "metadata": {
        "colab": {
          "base_uri": "https://localhost:8080/"
        },
        "id": "nF-tfXs_ZObQ",
        "outputId": "80f29aac-7c76-4ee2-9c06-12591756fd17"
      },
      "execution_count": 9,
      "outputs": [
        {
          "output_type": "stream",
          "name": "stdout",
          "text": [
            "['You', 'WandaVision', 'The Office', 'Loki', 'Friends']\n"
          ]
        }
      ]
    },
    {
      "cell_type": "markdown",
      "source": [
        "6.\tCreate a message indicating how many favorite TV shows you have – use the len() function."
      ],
      "metadata": {
        "id": "uzv8nqHBWieb"
      }
    },
    {
      "cell_type": "code",
      "source": [
        "print(\"These are my \"+str(len(tv_shows))+\" favorite television shows.\")"
      ],
      "metadata": {
        "id": "yQx65IPwZrf9",
        "outputId": "d38b5ae4-2af1-4635-d346-d2da151360a9",
        "colab": {
          "base_uri": "https://localhost:8080/"
        }
      },
      "execution_count": 10,
      "outputs": [
        {
          "output_type": "stream",
          "name": "stdout",
          "text": [
            "These are my 5 favorite television shows.\n"
          ]
        }
      ]
    }
  ]
}