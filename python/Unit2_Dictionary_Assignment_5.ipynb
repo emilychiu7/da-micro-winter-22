{
  "nbformat": 4,
  "nbformat_minor": 0,
  "metadata": {
    "colab": {
      "name": "Unit2_Dictionary_Assignment_5.ipynb",
      "provenance": [],
      "collapsed_sections": [],
      "toc_visible": true,
      "include_colab_link": true
    },
    "kernelspec": {
      "name": "python3",
      "display_name": "Python 3"
    }
  },
  "cells": [
    {
      "cell_type": "markdown",
      "metadata": {
        "id": "view-in-github",
        "colab_type": "text"
      },
      "source": [
        "<a href=\"https://colab.research.google.com/github/emilychiu7/micro_cred_da_winter_2022/blob/main/python/Unit2_Dictionary_Assignment_5.ipynb\" target=\"_parent\"><img src=\"https://colab.research.google.com/assets/colab-badge.svg\" alt=\"Open In Colab\"/></a>"
      ]
    },
    {
      "cell_type": "markdown",
      "metadata": {
        "id": "Vgs8Kp4TidFQ"
      },
      "source": [
        "# Intrdouction to Python - Dictionary - Assignment #5 "
      ]
    },
    {
      "cell_type": "markdown",
      "metadata": {
        "id": "_Hq7Ny79iwgD"
      },
      "source": [
        "## 1.\tCreate a simple dictionary that stores 2 variables, for example: first and last name."
      ]
    },
    {
      "cell_type": "code",
      "metadata": {
        "id": "lotvpVpvlKsR"
      },
      "source": [
        "customer = {\n",
        "    'first_name':'Emily',\n",
        "    'last_name':'Chiu',\n",
        "}"
      ],
      "execution_count": 1,
      "outputs": []
    },
    {
      "cell_type": "markdown",
      "metadata": {
        "id": "io_27RSlizno"
      },
      "source": [
        "## 2.\tPrint out those variables stored in your previous dictionary. "
      ]
    },
    {
      "cell_type": "code",
      "metadata": {
        "id": "Dh1o5cAylSHB",
        "colab": {
          "base_uri": "https://localhost:8080/"
        },
        "outputId": "8f33a1ae-7816-422c-ca2e-28467c93c3a8"
      },
      "source": [
        "print(customer)"
      ],
      "execution_count": 7,
      "outputs": [
        {
          "output_type": "stream",
          "name": "stdout",
          "text": [
            "{'first_name': 'Emily', 'last_name': 'Chiu'}\n"
          ]
        }
      ]
    },
    {
      "cell_type": "markdown",
      "metadata": {
        "id": "DAW8m8IQjRyR"
      },
      "source": [
        "## 3.\tAdd a message to those variables on printing: for example: “Hello, firstname lastname!”"
      ]
    },
    {
      "cell_type": "code",
      "metadata": {
        "id": "guULMEhrjYtT",
        "colab": {
          "base_uri": "https://localhost:8080/"
        },
        "outputId": "f7a7edbd-041c-4094-cd2a-dd6c4ea65e9b"
      },
      "source": [
        "print(\"Hello, \"+customer['first_name'],customer['last_name']+\"!\")"
      ],
      "execution_count": 12,
      "outputs": [
        {
          "output_type": "stream",
          "name": "stdout",
          "text": [
            "Hello, Emily Chiu!\n"
          ]
        }
      ]
    },
    {
      "cell_type": "markdown",
      "metadata": {
        "id": "dpa_YOt4jXyo"
      },
      "source": [
        "## 4.\tCreate a dictionary that holds 2 key: value pairs:\n",
        "\n",
        "a.\tLook through your dictionary and print each pair,\n"
      ]
    },
    {
      "cell_type": "code",
      "metadata": {
        "id": "pltxfnh3iJLW"
      },
      "source": [
        "directory = {\n",
        "    \"first_name\":'Tom',\n",
        "    \"last_name\":'Nook',\n",
        "    'age':'39',\n",
        "    'city':'Kyoto',\n",
        "    'occupation':'Real Estate Agent'\n",
        "}"
      ],
      "execution_count": 16,
      "outputs": []
    },
    {
      "cell_type": "code",
      "metadata": {
        "id": "PzH5Rcn-jwPL",
        "colab": {
          "base_uri": "https://localhost:8080/"
        },
        "outputId": "8d7f9665-ca42-40f3-9629-52bda958e9f1"
      },
      "source": [
        "for key, value in directory.items():\n",
        "  print(key,\":\",value)"
      ],
      "execution_count": 17,
      "outputs": [
        {
          "output_type": "stream",
          "name": "stdout",
          "text": [
            "first_name : Tom\n",
            "last_name : Nook\n",
            "age : 39\n",
            "city : Kyoto\n",
            "hobby : Real Estate Agent\n"
          ]
        }
      ]
    },
    {
      "cell_type": "markdown",
      "source": [
        "##5. Create a nested dictionary containing three dictionaries – these dictionaries could be anything (favorite pets, travel locations, etc.)\n",
        "\n",
        "a. Loop through the dictionaries and print a message for each."
      ],
      "metadata": {
        "id": "i_hiDLbyaaCF"
      }
    },
    {
      "cell_type": "code",
      "source": [
        "#Nested dictionary of three dictionaries of three different pets\n",
        "pets = {\n",
        "    'Kit':{'type':'cat','age':'3','sex':'female'},\n",
        "    'Ruffles':{'type':'dog','age':'6','sex':'male'},\n",
        "    'Squeak':{'type':'hamster','age':'2','sex':'female'}\n",
        "    }\n",
        "print(pets)\n",
        "\n",
        "#Neater view using for loops\n",
        "for i in pets:\n",
        "  print(i,\":\",pets[i])"
      ],
      "metadata": {
        "colab": {
          "base_uri": "https://localhost:8080/"
        },
        "id": "vTPEPlctzArq",
        "outputId": "4d3ab455-819d-447b-f662-73623dad3ae8"
      },
      "execution_count": 50,
      "outputs": [
        {
          "output_type": "stream",
          "name": "stdout",
          "text": [
            "{'Kit': {'type': 'cat', 'age': '3', 'sex': 'female'}, 'Ruffles': {'type': 'dog', 'age': '6', 'sex': 'male'}, 'Squeak': {'type': 'hamster', 'age': '2', 'sex': 'female'}}\n",
            "Kit : {'type': 'cat', 'age': '3', 'sex': 'female'}\n",
            "Ruffles : {'type': 'dog', 'age': '6', 'sex': 'male'}\n",
            "Squeak : {'type': 'hamster', 'age': '2', 'sex': 'female'}\n"
          ]
        }
      ]
    }
  ]
}
