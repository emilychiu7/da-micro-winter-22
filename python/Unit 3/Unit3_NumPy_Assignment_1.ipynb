{
  "nbformat": 4,
  "nbformat_minor": 0,
  "metadata": {
    "colab": {
      "name": "Unit3_NumPy_Assignment_1.ipynb",
      "provenance": [],
      "collapsed_sections": [],
      "toc_visible": true,
      "include_colab_link": true
    },
    "kernelspec": {
      "name": "python3",
      "display_name": "Python 3"
    }
  },
  "cells": [
    {
      "cell_type": "markdown",
      "metadata": {
        "id": "view-in-github",
        "colab_type": "text"
      },
      "source": [
        "<a href=\"https://colab.research.google.com/github/emilychiu7/micro_cred_da_winter_2022/blob/main/python/Unit%203/Unit3_NumPy_Assignment_1.ipynb\" target=\"_parent\"><img src=\"https://colab.research.google.com/assets/colab-badge.svg\" alt=\"Open In Colab\"/></a>"
      ]
    },
    {
      "cell_type": "markdown",
      "metadata": {
        "id": "Vgs8Kp4TidFQ"
      },
      "source": [
        "# Unit 3 - Advanced Python - NumPy - Assignment #1  "
      ]
    },
    {
      "cell_type": "markdown",
      "metadata": {
        "id": "_Hq7Ny79iwgD"
      },
      "source": [
        "## 1. Environment Set up\n"
      ]
    },
    {
      "cell_type": "code",
      "metadata": {
        "id": "MiB4JCOP5FdJ"
      },
      "source": [
        "import numpy as np"
      ],
      "execution_count": 1,
      "outputs": []
    },
    {
      "cell_type": "code",
      "metadata": {
        "id": "lotvpVpvlKsR"
      },
      "source": [
        "#Dataset from summer Olympic London, year 2012\n",
        "np_olympic_country = np.array(['GBR','China','RUS','US','KOR','JPN','GER'])\n",
        "np_olympic_country_Gold = np.array([29,38,24,46,13,7,11])\n",
        "np_olympic_country_Silver = np.array([17,28,25,28,8,14,11])\n",
        "np_olympic_country_Bronze = np.array([19,22,32,29,7,17,14])"
      ],
      "execution_count": 2,
      "outputs": []
    },
    {
      "cell_type": "markdown",
      "metadata": {
        "id": "io_27RSlizno"
      },
      "source": [
        "## 2.\tFind country with maximum gold and minimum gold"
      ]
    },
    {
      "cell_type": "code",
      "metadata": {
        "id": "Dh1o5cAylSHB",
        "outputId": "f1598155-adfe-476b-faae-eb5daffd0330",
        "colab": {
          "base_uri": "https://localhost:8080/"
        }
      },
      "source": [
        "#One way to find maximum element in numpy array\n",
        "max_gold = np.amax(np_olympic_country_Gold)\n",
        "print('Maximum Gold Medals:',max_gold)\n",
        "\n",
        "#Another way to find maximum element in numpy array\n",
        "result = np.where (np_olympic_country_Gold==np.max(np_olympic_country_Gold))\n",
        "print('Maximum Gold Medals:',np.max(np_olympic_country_Gold))\n",
        "\n",
        "#Find index of that element\n",
        "print('Tuple of arrays :', result)\n",
        "print('Index of max element:',result[0])\n",
        "\n",
        "#Identify country of the same index\n",
        "print('Country with maximum gold medals:',np_olympic_country[result])"
      ],
      "execution_count": 3,
      "outputs": [
        {
          "output_type": "stream",
          "name": "stdout",
          "text": [
            "Maximum Gold Medals: 46\n",
            "Maximum Gold Medals: 46\n",
            "Tuple of arrays : (array([3]),)\n",
            "Index of max element: [3]\n",
            "Country with maximum gold medals: ['US']\n"
          ]
        }
      ]
    },
    {
      "cell_type": "code",
      "source": [
        "#Find minimum element in numpy array\n",
        "result = np.where (np_olympic_country_Gold==np.min(np_olympic_country_Gold))\n",
        "print('Minimum Gold Medals:',np.min(np_olympic_country_Gold))\n",
        "\n",
        "#Find index of that element\n",
        "print('Tuple of arrays :', result)\n",
        "print('Index of min element:',result[0])\n",
        "\n",
        "#Identify country of the same index\n",
        "print('Country with minimum gold medals:',np_olympic_country[result])"
      ],
      "metadata": {
        "id": "JWGtR8CUzOIG",
        "outputId": "4a76eb3a-d5d2-4352-95c2-ed46d18e3918",
        "colab": {
          "base_uri": "https://localhost:8080/"
        }
      },
      "execution_count": 4,
      "outputs": [
        {
          "output_type": "stream",
          "name": "stdout",
          "text": [
            "Minimum Gold Medals: 7\n",
            "Tuple of arrays : (array([5]),)\n",
            "Index of min element: [5]\n",
            "Country with minimum gold medals: ['JPN']\n"
          ]
        }
      ]
    },
    {
      "cell_type": "markdown",
      "metadata": {
        "id": "DAW8m8IQjRyR"
      },
      "source": [
        "## 3.\tFind countries with more than 20 gold medals"
      ]
    },
    {
      "cell_type": "code",
      "metadata": {
        "id": "guULMEhrjYtT",
        "outputId": "27e4a4a7-f01f-4f7a-ad9e-d262dd5d31ae",
        "colab": {
          "base_uri": "https://localhost:8080/"
        }
      },
      "source": [
        "#Find which has over 20 gold medals\n",
        "over_20_gold=np_olympic_country_Gold>20\n",
        "print(over_20_gold)"
      ],
      "execution_count": 5,
      "outputs": [
        {
          "output_type": "stream",
          "name": "stdout",
          "text": [
            "[ True  True  True  True False False False]\n"
          ]
        }
      ]
    },
    {
      "cell_type": "code",
      "metadata": {
        "id": "cv946RaOjw-G",
        "outputId": "c2f6d353-33c3-4df8-bd6a-73a578240e6f",
        "colab": {
          "base_uri": "https://localhost:8080/"
        }
      },
      "source": [
        "#Find index\n",
        "x=np.where(over_20_gold)\n",
        "print(x)"
      ],
      "execution_count": 6,
      "outputs": [
        {
          "output_type": "stream",
          "name": "stdout",
          "text": [
            "(array([0, 1, 2, 3]),)\n"
          ]
        }
      ]
    },
    {
      "cell_type": "code",
      "metadata": {
        "id": "4oNKGU70llVg",
        "outputId": "40a9ed0f-c896-45e6-debd-39196dcadb62",
        "colab": {
          "base_uri": "https://localhost:8080/"
        }
      },
      "source": [
        "#Identify country of the same index\n",
        "print('Countries with more than 20 gold medals:',np_olympic_country[x])"
      ],
      "execution_count": 7,
      "outputs": [
        {
          "output_type": "stream",
          "name": "stdout",
          "text": [
            "Countries with more than 20 gold medals: ['GBR' 'China' 'RUS' 'US']\n"
          ]
        }
      ]
    }
  ]
}