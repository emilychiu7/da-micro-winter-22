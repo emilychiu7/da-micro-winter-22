{
  "nbformat": 4,
  "nbformat_minor": 0,
  "metadata": {
    "colab": {
      "name": "Unit 2_Review.ipynb",
      "provenance": [],
      "collapsed_sections": [],
      "include_colab_link": true
    },
    "kernelspec": {
      "name": "python3",
      "display_name": "Python 3"
    }
  },
  "cells": [
    {
      "cell_type": "markdown",
      "metadata": {
        "id": "view-in-github",
        "colab_type": "text"
      },
      "source": [
        "<a href=\"https://colab.research.google.com/github/emilychiu7/micro_cred_da_winter_2022/blob/main/python/Unit%202/Unit_2_Review.ipynb\" target=\"_parent\"><img src=\"https://colab.research.google.com/assets/colab-badge.svg\" alt=\"Open In Colab\"/></a>"
      ]
    },
    {
      "cell_type": "code",
      "metadata": {
        "colab": {
          "base_uri": "https://localhost:8080/"
        },
        "id": "xDMGl7LCKSeC",
        "outputId": "d7fd7931-5614-493a-dd51-cbc5f78c2068"
      },
      "source": [
        "#The len() function returns the length of a string:\n",
        " \n",
        "a = \"Hello, World!\"\n",
        "print(len(a))\n",
        "print(len(a))"
      ],
      "execution_count": null,
      "outputs": [
        {
          "output_type": "stream",
          "name": "stdout",
          "text": [
            "13\n",
            "13\n"
          ]
        }
      ]
    },
    {
      "cell_type": "code",
      "metadata": {
        "colab": {
          "base_uri": "https://localhost:8080/"
        },
        "id": "Pc3cEQ6HKdYe",
        "outputId": "2966f19a-3b7c-43dc-c602-dee9f4943d10"
      },
      "source": [
        "#Check if \"free\" is present in the following text:\n",
        "\n",
        "txt = \"The best things in life are free!\"\n",
        "print(\"free\" in txt)\n",
        "print(\"hhhhe\" in txt)\n",
        "print('12' in txt)"
      ],
      "execution_count": null,
      "outputs": [
        {
          "output_type": "stream",
          "name": "stdout",
          "text": [
            "True\n",
            "False\n",
            "False\n"
          ]
        }
      ]
    },
    {
      "cell_type": "code",
      "metadata": {
        "colab": {
          "base_uri": "https://localhost:8080/"
        },
        "id": "Y0PJgpN8IB2r",
        "outputId": "cdd7ddfe-a12a-4c8c-c760-1ba0679d3d09"
      },
      "source": [
        "age = 36\n",
        "txt = \"My name is me, and I am {} years old\"                    #{} where age goes\n",
        "print(txt.format(age))                                          #the format() method formats the specified value(s) and insert them inside the string's placeholder.\n",
        "print(\"My name is me,and I am\"+' ' + str(age)+\"years old\")\n",
        "\n",
        "name = 'emily'\n",
        "test = \"My name is {}\"\n",
        "print('my name is '+str(name))"
      ],
      "execution_count": null,
      "outputs": [
        {
          "output_type": "stream",
          "name": "stdout",
          "text": [
            "My name is me, and I am 36 years old\n",
            "My name is me,and I am 36years old\n",
            "my name is emily\n"
          ]
        }
      ]
    },
    {
      "cell_type": "code",
      "metadata": {
        "colab": {
          "base_uri": "https://localhost:8080/"
        },
        "id": "DwMnw7weIG_S",
        "outputId": "da126e77-848f-45d1-d4b0-63aa6aea8e7f"
      },
      "source": [
        "#Demonstrate one String Concatenation example.\n",
        "#String Concantenation: combining strings together.\n",
        "str_a = 'String'\n",
        "str_b = 'Example'\n",
        "x='.'\n",
        "str_c = str_a + ' Concatenation ' + str_b+ str(x)\n",
        "print(str_c)"
      ],
      "execution_count": null,
      "outputs": [
        {
          "output_type": "stream",
          "name": "stdout",
          "text": [
            "String Concatenation Example.\n"
          ]
        }
      ]
    },
    {
      "cell_type": "code",
      "metadata": {
        "colab": {
          "base_uri": "https://localhost:8080/"
        },
        "id": "34uyI7VCFte8",
        "outputId": "cc1e8145-8b52-4f5e-8a50-85e0d9822d21"
      },
      "source": [
        "thislist = [\"apple\", \"banana\", \"cherry\", \"apple\", \"cherry\"]       #Make a list.\n",
        "print(thislist)                                                   #Print the list.\n",
        "\n",
        "most_used_apps = ['spotify','youtube','facebook','slack']\n",
        "print(most_used_apps)\n",
        "most_used_apps.insert(2,'discord')                                #list.insert(index, object)\n",
        "print(most_used_apps)                                             #print list.\n",
        "a = 'maps'\n",
        "most_used_apps.extend([a])                                        #.extend([]) appends each element of the iterable (tuple, string, or list) to the end of the list\n",
        "print(most_used_apps)\n",
        "most_used_apps.append([a])                                        #.append() adds an element at the end of the list.\n",
        "print(most_used_apps)"
      ],
      "execution_count": null,
      "outputs": [
        {
          "output_type": "stream",
          "name": "stdout",
          "text": [
            "['apple', 'banana', 'cherry', 'apple', 'cherry']\n",
            "['spotify', 'youtube', 'facebook', 'slack']\n",
            "['spotify', 'youtube', 'discord', 'facebook', 'slack']\n",
            "['spotify', 'youtube', 'discord', 'facebook', 'slack', 'maps']\n",
            "['spotify', 'youtube', 'discord', 'facebook', 'slack', 'maps', ['maps']]\n"
          ]
        }
      ]
    },
    {
      "cell_type": "code",
      "metadata": {
        "colab": {
          "base_uri": "https://localhost:8080/"
        },
        "id": "RDd1MaTIFzQJ",
        "outputId": "74cd2bc5-b8fc-401b-c45e-f37532bea18d"
      },
      "source": [
        "list1 = [\"apple\", \"banana\", \"cherry\"]\n",
        "list2 = [1, 5, 7, 9, 3]\n",
        "list3 = [True, False, False]\n",
        "print(type(list3))                            #print(type(object name))"
      ],
      "execution_count": null,
      "outputs": [
        {
          "output_type": "stream",
          "text": [
            "<class 'list'>\n"
          ],
          "name": "stdout"
        }
      ]
    },
    {
      "cell_type": "code",
      "metadata": {
        "colab": {
          "base_uri": "https://localhost:8080/"
        },
        "id": "YIkplprTF53n",
        "outputId": "03a399e5-63bc-454d-fd2d-bc3b84f4f5fd"
      },
      "source": [
        "thislist = [\"apple\", 66, \"orange\",]       #str, int, str\n",
        "\n",
        "print(thislist)"
      ],
      "execution_count": null,
      "outputs": [
        {
          "output_type": "stream",
          "text": [
            "['apple', 66, 'orange']\n"
          ],
          "name": "stdout"
        }
      ]
    },
    {
      "cell_type": "code",
      "metadata": {
        "colab": {
          "base_uri": "https://localhost:8080/"
        },
        "id": "Tha9pQ7EE9he",
        "outputId": "cc8f1404-5b6e-4679-f491-fdb621f2aa8f"
      },
      "source": [
        "#nested list only for CS track\n",
        "#To add new values to the end of the nested list, use append() method.\n",
        "L = ['a', ['bb', 'cc'],['f','g'], 'd']\n",
        "\n",
        "Lw = ['a''bb','5' 'cc']\n",
        "print(L)\n",
        "print(Lw)\n",
        "# Prints ['a', ['bb', 'cc', 'xx'], 'd']\n",
        "\n"
      ],
      "execution_count": null,
      "outputs": [
        {
          "output_type": "stream",
          "name": "stdout",
          "text": [
            "['a', ['bb', 'cc'], ['f', 'g'], 'd']\n",
            "['abb', '5cc']\n"
          ]
        }
      ]
    },
    {
      "cell_type": "code",
      "metadata": {
        "colab": {
          "base_uri": "https://localhost:8080/"
        },
        "id": "I-CCIB5fFSZ9",
        "outputId": "fc7738e5-30f5-4e81-839e-5884d831a954"
      },
      "source": [
        "# insert an item at a specific position in a nested list, use insert() method.\n",
        "L = ['a', ['bb', 'cc'], 'd']\n",
        "L[1].insert(2,'xx')\n",
        "print(L)\n"
      ],
      "execution_count": null,
      "outputs": [
        {
          "output_type": "stream",
          "text": [
            "['a', ['bb', 'cc', 'xx'], 'd']\n"
          ],
          "name": "stdout"
        }
      ]
    },
    {
      "cell_type": "code",
      "metadata": {
        "colab": {
          "base_uri": "https://localhost:8080/"
        },
        "id": "vB21-PC6FfCk",
        "outputId": "83fb895c-59a6-43b0-d1da-6a6dd6574ac9"
      },
      "source": [
        "#change the value of a specific item in a nested list by referring to its index number.\n",
        "L = ['a', ['bb', 'cc'], 'd']\n",
        "L[1][1] = 'k'\n",
        "print(L)"
      ],
      "execution_count": null,
      "outputs": [
        {
          "output_type": "stream",
          "text": [
            "['a', ['bb', 'k'], 'd']\n"
          ],
          "name": "stdout"
        }
      ]
    },
    {
      "cell_type": "code",
      "metadata": {
        "id": "gEhlSNfPFj0Q",
        "colab": {
          "base_uri": "https://localhost:8080/"
        },
        "outputId": "7fdde83a-1919-477b-db08-275ffec69434"
      },
      "source": [
        "#You can merge one list into another by using extend() method.\n",
        "L = ['a', ['bb', 'cc'], 'd']\n",
        "L[1].extend(['g',2,3])\n",
        "print(L)"
      ],
      "execution_count": null,
      "outputs": [
        {
          "output_type": "stream",
          "text": [
            "['a', ['bb', 'cc', 'g', 2, 3], 'd']\n"
          ],
          "name": "stdout"
        }
      ]
    },
    {
      "cell_type": "code",
      "metadata": {
        "id": "2DMAKzw3Fmd5",
        "outputId": "d30d4cf2-6a53-4463-f298-a5200c6b834a",
        "colab": {
          "base_uri": "https://localhost:8080/"
        }
      },
      "source": [
        "testt = [\"apple\", \"banana\", \"cherry\"]\n",
        "if \"apple\" in testt:\n",
        "  print(\"Yes, 'apple' is in the fruits list\")\n",
        "\n",
        "\n",
        "boroughs = ['brooklyn','manhattan','queens','bronx','staten island']\n",
        "if 'long island' in boroughs:\n",
        "  print(\"Yes, this is a NYC borough\")\n",
        "else:\n",
        "  print(\"No, this is not a NYC borough\")"
      ],
      "execution_count": null,
      "outputs": [
        {
          "output_type": "stream",
          "name": "stdout",
          "text": [
            "Yes, 'apple' is in the fruits list\n",
            "No, this is not a NYC borough\n"
          ]
        }
      ]
    },
    {
      "cell_type": "code",
      "metadata": {
        "colab": {
          "base_uri": "https://localhost:8080/"
        },
        "id": "jFOPtNvZGKQO",
        "outputId": "e3c6b9a7-f3b8-4667-b037-aedb99599b13"
      },
      "source": [
        "thislist = [\"apple\", \"banana\", \"cherry\"]\n",
        "\n",
        "#Change element 1 to \"blackcurrant\"\n",
        "thislist[1] = \"blackcurrant\"\n",
        "print(thislist)\n",
        "\n",
        "boroughs = ['queens','bronx','brooklyn']\n",
        "boroughs[2] = 'manhattan'\n",
        "print(boroughs)"
      ],
      "execution_count": null,
      "outputs": [
        {
          "output_type": "stream",
          "name": "stdout",
          "text": [
            "['apple', 'blackcurrant', 'cherry']\n",
            "['queens', 'bronx', 'manhattan']\n"
          ]
        }
      ]
    },
    {
      "cell_type": "code",
      "metadata": {
        "colab": {
          "base_uri": "https://localhost:8080/"
        },
        "id": "4pm1DeVNGU5t",
        "outputId": "13de3788-7900-42ba-dcd4-0e79e807be49"
      },
      "source": [
        "thislist = [\"apple\", \"banana\", \"cherry\"]\n",
        "thislist[1:3] = [\"watermelon\"]\n",
        "\n",
        "#'banana' is interchanged with 'watermelon'; lists until element 2\n",
        "print(thislist)"
      ],
      "execution_count": null,
      "outputs": [
        {
          "output_type": "stream",
          "name": "stdout",
          "text": [
            "['apple', 'watermelon']\n"
          ]
        }
      ]
    },
    {
      "cell_type": "code",
      "metadata": {
        "colab": {
          "base_uri": "https://localhost:8080/"
        },
        "id": "QQvfV1gzGfXS",
        "outputId": "85659a93-b853-4f3c-e128-79c43b724c6e"
      },
      "source": [
        "fruits=[55,'banana','cherry']           #.append = print \"orange\" at end of list\n",
        "fruits.append(\"orange\")\n",
        "print(fruits)\n",
        "fruits.extend(\"orange\")                 #.extend = print each letter in \"orange\" at the end of the list\n",
        "print(fruits)\n",
        "fruits.extend(['orange'])               #unless put in brackets as a new elements in the list []\n",
        "print(fruits)\n",
        "fruits.extend(['apple','lemon'])\n",
        "print(fruits)"
      ],
      "execution_count": null,
      "outputs": [
        {
          "output_type": "stream",
          "name": "stdout",
          "text": [
            "[55, 'banana', 'cherry', 'orange']\n",
            "[55, 'banana', 'cherry', 'orange', 'o', 'r', 'a', 'n', 'g', 'e']\n",
            "[55, 'banana', 'cherry', 'orange', 'o', 'r', 'a', 'n', 'g', 'e', 'orange']\n",
            "[55, 'banana', 'cherry', 'orange', 'o', 'r', 'a', 'n', 'g', 'e', 'orange', 'apple', 'lemon']\n"
          ]
        }
      ]
    },
    {
      "cell_type": "code",
      "metadata": {
        "colab": {
          "base_uri": "https://localhost:8080/"
        },
        "id": "YTo90fUqGnYq",
        "outputId": "fac66ef0-ce4c-4387-ff7d-fd0972d02518"
      },
      "source": [
        "#Add a list to a list:\n",
        "a = [\"apple\", \"banana\", \"cherry\"]\n",
        "b = [\"Ford\", \"BMW\", \"Volvo\"]\n",
        "\n",
        "#see 'a' list then the last element of the list is list 'b'\n",
        "a.append(b)\n",
        "print(a)"
      ],
      "execution_count": null,
      "outputs": [
        {
          "output_type": "stream",
          "text": [
            "['apple', 'banana', 'cherry', ['Ford', 'BMW', 'Volvo']]\n"
          ],
          "name": "stdout"
        }
      ]
    },
    {
      "cell_type": "code",
      "metadata": {
        "colab": {
          "base_uri": "https://localhost:8080/"
        },
        "id": "IExtkgAFGvLQ",
        "outputId": "61700312-8886-49f7-ad5b-98ff3203b823"
      },
      "source": [
        "#Loop Through the Index Numbers\n",
        "thislist = [\"apple\", \"banana\", \"cherry\"]\n",
        "for i in range(len(thislist)):\n",
        "  print(thislist[i])\n",
        "print('nnn')"
      ],
      "execution_count": null,
      "outputs": [
        {
          "output_type": "stream",
          "name": "stdout",
          "text": [
            "apple\n",
            "banana\n",
            "cherry\n",
            "nnn\n"
          ]
        }
      ]
    },
    {
      "cell_type": "code",
      "metadata": {
        "colab": {
          "base_uri": "https://localhost:8080/"
        },
        "id": "LDhKcLnSG03B",
        "outputId": "8f30eec1-46ed-45ad-ce5f-9b276c31f958"
      },
      "source": [
        "#Insert an item as the second position:\n",
        "thislist = [\"apple\", \"banana\", \"cherry\"]\n",
        "thislist.insert(1, \"orange\")\n",
        "print(thislist)\n",
        "\n",
        "\n",
        "search_engines = ['google','yahoo']\n",
        "search_engines.insert(2,'bing')\n",
        "print(search_engines)"
      ],
      "execution_count": null,
      "outputs": [
        {
          "output_type": "stream",
          "name": "stdout",
          "text": [
            "['apple', 'orange', 'banana', 'cherry']\n",
            "['google', 'yahoo', 'bing']\n"
          ]
        }
      ]
    },
    {
      "cell_type": "code",
      "metadata": {
        "colab": {
          "base_uri": "https://localhost:8080/"
        },
        "id": "hNd1BJK2G7oE",
        "outputId": "837a0b09-771e-4f2c-d574-3c33fb9c7630"
      },
      "source": [
        "#extend elements from another list to the current list,\n",
        "thislist = [\"apple\", \"banana\", \"cherry\"]\n",
        "tropical = [\"mango\", \"pineapple\", \"papaya\"]\n",
        "thislist.extend(tropical)\n",
        "print(thislist)\n",
        "\n",
        "#.append does not combine the list\n",
        "thislist.append(tropical)\n",
        "print(thislist)"
      ],
      "execution_count": null,
      "outputs": [
        {
          "output_type": "stream",
          "name": "stdout",
          "text": [
            "['apple', 'banana', 'cherry', 'mango', 'pineapple', 'papaya']\n",
            "['apple', 'banana', 'cherry', 'mango', 'pineapple', 'papaya', ['mango', 'pineapple', 'papaya']]\n"
          ]
        }
      ]
    },
    {
      "cell_type": "code",
      "metadata": {
        "colab": {
          "base_uri": "https://localhost:8080/"
        },
        "id": "DUcTsqndHfxn",
        "outputId": "0ab29088-18fb-459f-f226-c508ffe575c0"
      },
      "source": [
        "fruit1 = [\"pineapple\", \"kwi\", \"cherry\",\"Lemon\",\"babana\"]\n",
        "print(fruit1)\n",
        "fruit2 = (\"melon\", \"orange\")\n",
        "fruit1.extend(fruit2)\n",
        "print(fruit1)\n",
        "print(len(fruit1))\n",
        "fruit1.remove(\"orange\")\n",
        "print(fruit1)\n",
        "print(len(fruit1))\n",
        "fruit1.sort()\n",
        "print(\"sorted List\",fruit1)"
      ],
      "execution_count": null,
      "outputs": [
        {
          "output_type": "stream",
          "text": [
            "['pineapple', 'kwi', 'cherry', 'Lemon', 'babana']\n",
            "['pineapple', 'kwi', 'cherry', 'Lemon', 'babana', 'melon', 'orange']\n",
            "7\n",
            "['pineapple', 'kwi', 'cherry', 'Lemon', 'babana', 'melon']\n",
            "6\n",
            "sorted List ['Lemon', 'babana', 'cherry', 'kwi', 'melon', 'pineapple']\n"
          ],
          "name": "stdout"
        }
      ]
    },
    {
      "cell_type": "code",
      "metadata": {
        "colab": {
          "base_uri": "https://localhost:8080/",
          "height": 122
        },
        "id": "aQFTkF32HuLm",
        "outputId": "bcc028bc-d969-4f37-cead-a202a94da40d"
      },
      "source": [
        "a = [\"car\", [\"bmw\", \"kia\", \"ford\"], \"Truck\", [\"pick up\", \"monster truck\", [\"ford\", \"gmc\"]], \"motorcycle\", [\"Honda\"]]    #List within a list = nested list\n",
        "print(a[0])\n",
        "print(a[1])\n",
        "print(a[2])\n",
        "print(a[3])\n",
        "print(a[1][1])\n",
        "\n",
        "#to get ford which is in 3rd list (second list) and 0 element\n",
        "a[3][2][0]"
      ],
      "execution_count": null,
      "outputs": [
        {
          "output_type": "stream",
          "text": [
            "car\n",
            "['bmw', 'kia', 'ford']\n",
            "Truck\n",
            "['pick up', 'monster truck', ['ford', 'gmc']]\n",
            "kia\n"
          ],
          "name": "stdout"
        },
        {
          "output_type": "execute_result",
          "data": {
            "application/vnd.google.colaboratory.intrinsic+json": {
              "type": "string"
            },
            "text/plain": [
              "'ford'"
            ]
          },
          "metadata": {
            "tags": []
          },
          "execution_count": 16
        }
      ]
    },
    {
      "cell_type": "code",
      "metadata": {
        "colab": {
          "base_uri": "https://localhost:8080/"
        },
        "id": "B-jXfjB9IUYM",
        "outputId": "be3de99a-aa55-450c-e770-02c9c35b3f46"
      },
      "source": [
        "fruit1 = [\"pineapple\", \"kwi\", \"cherry\",\"lemon\",\"banana\"]\n",
        "print(fruit1)                   #List all elements\n",
        "fruit2 = [\"melon\", \"orange\"]    #add new fruits\n",
        "fruit1.extend(fruit2)\n",
        "print(fruit1)\n",
        "print(len(fruit1))              #number of fruits\n",
        "fruit1.remove(\"orange\")         #remove 'orange'\n",
        "print(fruit1)\n",
        "print(len(fruit1))\n",
        "fruit1.sort()\n",
        "print(fruit1)"
      ],
      "execution_count": null,
      "outputs": [
        {
          "output_type": "stream",
          "name": "stdout",
          "text": [
            "['pineapple', 'kwi', 'cherry', 'lemon', 'banana']\n",
            "['pineapple', 'kwi', 'cherry', 'lemon', 'banana', 'melon', 'orange']\n",
            "7\n",
            "['pineapple', 'kwi', 'cherry', 'lemon', 'banana', 'melon']\n",
            "6\n",
            "['banana', 'cherry', 'kwi', 'lemon', 'melon', 'pineapple']\n"
          ]
        }
      ]
    },
    {
      "cell_type": "code",
      "metadata": {
        "colab": {
          "base_uri": "https://localhost:8080/"
        },
        "id": "sqg2Pk-CK9Et",
        "outputId": "e922611b-1a1c-4dcc-d381-af3bac69800b"
      },
      "source": [
        "#Sort the list alphabetically:\n",
        "\n",
        "cars = ['Ford', 'BMW', 'Volvo']\n",
        "\n",
        "cars.sort()\n",
        "print(cars)\n",
        "\n",
        "search_engines = ['Google','Yahoo','Bing']\n",
        "search_engines.sort()\n",
        "print(search_engines)"
      ],
      "execution_count": null,
      "outputs": [
        {
          "output_type": "stream",
          "name": "stdout",
          "text": [
            "['BMW', 'Ford', 'Volvo']\n",
            "['Bing', 'Google', 'Yahoo']\n"
          ]
        }
      ]
    },
    {
      "cell_type": "code",
      "metadata": {
        "colab": {
          "base_uri": "https://localhost:8080/"
        },
        "id": "8zOeBBZAgwry",
        "outputId": "c31f4e4b-84bb-4d99-e8af-61e510aafa17"
      },
      "source": [
        "list1 = ['physics', 'chemistry', 1997, 2000]\n",
        "\n",
        "#Show all the elements in the list up until index 3, but not including index 3\n",
        "list1[:3]\n",
        "print(list1[:3])\n",
        "\n",
        "list2 = ['nintendo','electronic arts','epic games','square enix']\n",
        "list2[:2]\n",
        "a = \" is one of the top game development companies!\"\n",
        "for b in list2[:2]:\n",
        "  print(b+a)"
      ],
      "execution_count": null,
      "outputs": [
        {
          "output_type": "stream",
          "name": "stdout",
          "text": [
            "['physics', 'chemistry', 1997]\n",
            "nintendo is one of the top game development companies!\n",
            "electronic arts is one of the top game development companies!\n"
          ]
        }
      ]
    },
    {
      "cell_type": "code",
      "metadata": {
        "colab": {
          "base_uri": "https://localhost:8080/"
        },
        "id": "lIE0Gru1vycT",
        "outputId": "143f7d3b-d3da-42ee-ac88-f8ab6a6ad92c"
      },
      "source": [
        "for number in range(1, 10):       \n",
        "    if(number % 2 != 0):           \n",
        "        print(number)  \n",
        "\n",
        "#if (1%2) !0 <--if 1 mod 2 is =/= 0 then print; remainder is 1 =/=0 so false, so it will print"
      ],
      "execution_count": null,
      "outputs": [
        {
          "output_type": "stream",
          "name": "stdout",
          "text": [
            "1\n",
            "3\n",
            "5\n",
            "7\n",
            "9\n"
          ]
        }
      ]
    },
    {
      "cell_type": "markdown",
      "metadata": {
        "id": "vKsgQ1uY5yS2"
      },
      "source": [
        "Lecture 5"
      ]
    },
    {
      "cell_type": "code",
      "metadata": {
        "colab": {
          "base_uri": "https://localhost:8080/"
        },
        "id": "_syyFgwWyPBS",
        "outputId": "8d76564f-3c1d-4123-9988-fb05eb2322fb"
      },
      "source": [
        "bike='honda'      # = assignment operator; we assigned bike to be equal to honda. without this, line 2 is false\n",
        "bike=='honda'     # == equality operator"
      ],
      "execution_count": null,
      "outputs": [
        {
          "output_type": "execute_result",
          "data": {
            "text/plain": [
              "True"
            ]
          },
          "metadata": {},
          "execution_count": 22
        }
      ]
    },
    {
      "cell_type": "code",
      "metadata": {
        "colab": {
          "base_uri": "https://localhost:8080/"
        },
        "id": "-tRm9Hsd0dEw",
        "outputId": "ebe2340c-497e-43cf-c606-6f350b6102bf"
      },
      "source": [
        "patientexam='ecg'\n",
        "if(patientexam !='ecg'):\n",
        " print('incorrect exam')\n",
        "else:\n",
        "  print('correct exam')\n",
        " "
      ],
      "execution_count": null,
      "outputs": [
        {
          "output_type": "stream",
          "name": "stdout",
          "text": [
            "correct exam\n"
          ]
        }
      ]
    },
    {
      "cell_type": "code",
      "metadata": {
        "colab": {
          "base_uri": "https://localhost:8080/"
        },
        "id": "lkFvosnv16jO",
        "outputId": "e99090de-a927-43b7-b0b3-df722e5e17f5"
      },
      "source": [
        "a = 33\n",
        "b = 33\n",
        "\n",
        "#elif = else if; used to check multiple expressions\n",
        "if b > a:\n",
        "  print(\"b is greater than a\")\n",
        "elif a == b:\n",
        "  print(\"a and b are equal\")"
      ],
      "execution_count": null,
      "outputs": [
        {
          "output_type": "stream",
          "name": "stdout",
          "text": [
            "a and b are equal\n"
          ]
        }
      ]
    },
    {
      "cell_type": "code",
      "metadata": {
        "colab": {
          "base_uri": "https://localhost:8080/"
        },
        "id": "E_BTLPvq2J3C",
        "outputId": "46417234-f87c-4b89-d7ff-5e4dd3bb906d"
      },
      "source": [
        "a = 200\n",
        "b = 33\n",
        "if b > a:\n",
        "  print(\"b is greater than a\")\n",
        "elif a == b:\n",
        "  print(\"a and b are equal\")\n",
        "else:\n",
        "  print(\"a is greater than b\")"
      ],
      "execution_count": null,
      "outputs": [
        {
          "output_type": "stream",
          "name": "stdout",
          "text": [
            "a is greater than b\n"
          ]
        }
      ]
    },
    {
      "cell_type": "code",
      "metadata": {
        "colab": {
          "base_uri": "https://localhost:8080/"
        },
        "id": "dZOqg08x2U_m",
        "outputId": "0a4de4d7-5d79-4c6a-a6cb-73777b0b759f"
      },
      "source": [
        "#readmit days after discharge from hospital = 29 you will get error why?\n",
        "#we cannot have spaces in variables\n",
        "readmit_days_after_discharge_from_hospital = 29\n",
        "if readmit_days_after_discharge_from_hospital < 30:\n",
        "  print ('patient readmited whithin 30 days')\n",
        "else:\n",
        "  print ('patient readmited after 30 days')"
      ],
      "execution_count": null,
      "outputs": [
        {
          "output_type": "stream",
          "name": "stdout",
          "text": [
            "patient readmited whithin 30 days\n"
          ]
        }
      ]
    },
    {
      "cell_type": "code",
      "metadata": {
        "colab": {
          "base_uri": "https://localhost:8080/"
        },
        "id": "hXKSh8Zo5RM0",
        "outputId": "283a8671-6a3a-4561-d234-7013ee084adb"
      },
      "source": [
        "#multiple conditions and\n",
        "a = 200\n",
        "b = 33\n",
        "c = 100\n",
        "if a > b or c > a:\n",
        "  print(\"one conditions are True\")"
      ],
      "execution_count": null,
      "outputs": [
        {
          "output_type": "stream",
          "text": [
            "one conditions are True\n"
          ],
          "name": "stdout"
        }
      ]
    },
    {
      "cell_type": "code",
      "metadata": {
        "colab": {
          "base_uri": "https://localhost:8080/"
        },
        "id": "ublmoT2K5cyD",
        "outputId": "f4e27cca-d0b0-4142-f13f-6d3b112f9eb4"
      },
      "source": [
        "#multiple conditions or\n",
        "a = 200\n",
        "b = 33\n",
        "c = 500\n",
        "if a > b or a > c:\n",
        "  print(\"At least one of the conditions is True\")\n"
      ],
      "execution_count": null,
      "outputs": [
        {
          "output_type": "stream",
          "text": [
            "At least one of the conditions is True\n"
          ],
          "name": "stdout"
        }
      ]
    },
    {
      "cell_type": "code",
      "metadata": {
        "colab": {
          "base_uri": "https://localhost:8080/"
        },
        "id": "-2OHlcPt5sA_",
        "outputId": "76e403cb-b939-4f49-e0a5-edb994a9d3bd"
      },
      "source": [
        "# Nested If \n",
        "x = 41\n",
        "\n",
        "if x > 10:\n",
        "  print(\"Above ten,\")\n",
        "  if x > 20:\n",
        "    print(\"and also above 20!\")\n",
        "else:\n",
        "    print(\"but not above 20.\")"
      ],
      "execution_count": null,
      "outputs": [
        {
          "output_type": "stream",
          "name": "stdout",
          "text": [
            "Above ten,\n",
            "and also above 20!\n"
          ]
        }
      ]
    },
    {
      "cell_type": "code",
      "metadata": {
        "colab": {
          "base_uri": "https://localhost:8080/"
        },
        "id": "dngXbNs_5a3H",
        "outputId": "7aa7f4ba-1a2a-46d7-d1d3-d93bda4c34ea"
      },
      "source": [
        "#Check If List Item Exists\n",
        "#To determine if a specified item is present in a list use the in keyword:\n",
        "#Check if \"apple\" is present in the list:\n",
        "\n",
        "thislist = [\"apple\", \"banana\", \"cherry\"]\n",
        "if \"apple\" in thislist:\n",
        "  print(\"Yes, 'apple' is in the fruits list\")"
      ],
      "execution_count": null,
      "outputs": [
        {
          "output_type": "stream",
          "text": [
            "Yes, 'apple' is in the fruits list\n"
          ],
          "name": "stdout"
        }
      ]
    },
    {
      "cell_type": "code",
      "metadata": {
        "colab": {
          "base_uri": "https://localhost:8080/"
        },
        "id": "0npwHCS98CNC",
        "outputId": "afeb0dd3-878f-45ec-a19d-2638c3e63af3"
      },
      "source": [
        "patient_exam_record=['echo','ct','scan']\n",
        "'cvt' in patient_exam_record\n",
        "'ct' in patient_exam_record\n"
      ],
      "execution_count": null,
      "outputs": [
        {
          "output_type": "execute_result",
          "data": {
            "text/plain": [
              "True"
            ]
          },
          "metadata": {},
          "execution_count": 26
        }
      ]
    },
    {
      "cell_type": "code",
      "metadata": {
        "colab": {
          "base_uri": "https://localhost:8080/"
        },
        "id": "gP08SCEi81zW",
        "outputId": "e27356ca-8ebb-4210-956d-50831482baff"
      },
      "source": [
        "patient_exam_record_alergieas=['latex','penecilin','asperin']\n",
        "new_alergie='asma'\n",
        "if new_alergie in patient_exam_record_alergieas:\n",
        "  print('alergie in patient_exam_record')\n",
        "else:\n",
        "  print('patient doesnt have '+ new_alergie)\n",
        "  print(new_alergie +' is not in patient alergie list ')"
      ],
      "execution_count": null,
      "outputs": [
        {
          "output_type": "stream",
          "name": "stdout",
          "text": [
            "patient doesnt have asma\n",
            "asma is not in patient alergie list \n"
          ]
        }
      ]
    },
    {
      "cell_type": "code",
      "metadata": {
        "colab": {
          "base_uri": "https://localhost:8080/"
        },
        "id": "WI4a51r0CPhh",
        "outputId": "1e092078-a8ae-4967-d753-8fb6647e400e"
      },
      "source": [
        "fruits = [\"apple\", \"banana\", \"cherry\", \"kiwi\", \"mango\"]\n",
        "#new list with no additional elements\n",
        "newlist = []\n",
        "\n",
        "for x in fruits:\n",
        "  if \"a\" in x:\n",
        "    newlist.append(x)\n",
        "\n",
        "#print elements that have an \"a\" in it\n",
        "print(newlist)"
      ],
      "execution_count": null,
      "outputs": [
        {
          "output_type": "stream",
          "name": "stdout",
          "text": [
            "['orange', 'apple', 'banana', 'mango']\n"
          ]
        }
      ]
    },
    {
      "cell_type": "markdown",
      "metadata": {
        "id": "02Aq_ceyEnaw"
      },
      "source": [
        "# **Lect 6 Dictionaries**\n",
        "\n",
        "Python Collections (Arrays)\n",
        "There are four collection data types in the Python programming language:\n",
        "\n",
        "List is a collection which is ordered and changeable. Allows duplicate members.\n",
        "Tuple is a collection which is ordered and unchangeable. Allows duplicate members.\n",
        "Set is a collection which is unordered and unindexed. No duplicate members.\n",
        "Dictionary is a collection which is unordered and changeable. No duplicate members.\n",
        "When choosing a collection type, it is useful to understand the properties of that type. Choosing the right type for a particular data set could mean retention of meaning, and, it could mean an increase in efficiency or security."
      ]
    },
    {
      "cell_type": "code",
      "metadata": {
        "colab": {
          "base_uri": "https://localhost:8080/"
        },
        "id": "m7RsE-f6E3AZ",
        "outputId": "f16fce03-bedb-42a1-b836-54910cfcf2ba"
      },
      "source": [
        "#Dictionary\n",
        "#Dictionaries are used to store data values in key:value pairs.\n",
        "#A dictionary is a collection which is unordered, changeable and does not allow duplicates.\n",
        "#Dictionaries are written with curly brackets, and have keys and values:\n",
        "#Create and print a dictionary:\n",
        "\n",
        "patient_1 =\t{\n",
        "  \"first_name\": \"john\",\n",
        "  \"Last_name\": \"baker\"\n",
        "}\n",
        "print(patient_1['first_name'])\n",
        "print(patient_1['Last_name'])\n",
        "print(patient_1['first_name'],patient_1['Last_name']+' how are you')\n",
        "print(\" \")\n",
        "patient_2 = {\n",
        "    \"first_name\": \"Emma\",\n",
        "    'last_name':'Stone'\n",
        "}\n",
        "print('Welcome '+patient_2['first_name'],patient_2['last_name'])"
      ],
      "execution_count": null,
      "outputs": [
        {
          "output_type": "stream",
          "name": "stdout",
          "text": [
            "john\n",
            "baker\n",
            "john baker how are you\n",
            " \n",
            "Welcome Emma Stone\n"
          ]
        }
      ]
    },
    {
      "cell_type": "code",
      "metadata": {
        "colab": {
          "base_uri": "https://localhost:8080/"
        },
        "id": "BgP8HbSfkmzw",
        "outputId": "45f78eda-a29b-4522-a2d1-f46f91558479"
      },
      "source": [
        "patient_1 =\t{\n",
        "  \"first_name\": \"john\",\n",
        "  \"last_name\": \"baker\",\n",
        "  'mrn':'098987'\n",
        "}\n",
        "patient_name=patient_1['first_name']\n",
        "print(\"hello there, \"+ patient_name)\n",
        "print(patient_1)\n",
        "patient_1['mcrn']='999222'\n",
        "patient_1['new key']='bbds'\n",
        "patient_1  "
      ],
      "execution_count": null,
      "outputs": [
        {
          "output_type": "stream",
          "text": [
            "hello there, john\n",
            "{'first_name': 'john', 'last_name': 'baker', 'mrn': '098987'}\n"
          ],
          "name": "stdout"
        },
        {
          "output_type": "execute_result",
          "data": {
            "text/plain": [
              "{'first_name': 'john',\n",
              " 'last_name': 'baker',\n",
              " 'mcrn': '999222',\n",
              " 'mrn': '098987',\n",
              " 'new key': 'bbds'}"
            ]
          },
          "metadata": {
            "tags": []
          },
          "execution_count": 8
        }
      ]
    },
    {
      "cell_type": "code",
      "metadata": {
        "colab": {
          "base_uri": "https://localhost:8080/"
        },
        "id": "T_3eAig1oUq6",
        "outputId": "5e2e879c-3efd-434a-e0d0-98205c3a9d9a"
      },
      "source": [
        "thisdict =\t{\n",
        "  \"brand\": \"Ford\",\n",
        "  \"model\": \"Mustang\",\n",
        "  \"year\": 1964}\n",
        "print(thisdict)\n",
        "thisdict ['owner']='mark'\n",
        "print(thisdict)\n",
        "\n",
        "#to modify the value\n",
        "thisdict ['brand'] ='mercedes benz'\n",
        "print(thisdict)\n",
        "\n",
        "#to remove the value\n",
        "del thisdict ['brand']\n",
        "print(thisdict)"
      ],
      "execution_count": null,
      "outputs": [
        {
          "output_type": "stream",
          "text": [
            "{'brand': 'Ford', 'model': 'Mustang', 'year': 1964}\n",
            "{'brand': 'Ford', 'model': 'Mustang', 'year': 1964, 'owner': 'mark'}\n",
            "{'brand': 'mercedes benz', 'model': 'Mustang', 'year': 1964, 'owner': 'mark'}\n",
            "{'model': 'Mustang', 'year': 1964, 'owner': 'mark'}\n"
          ],
          "name": "stdout"
        }
      ]
    },
    {
      "cell_type": "code",
      "metadata": {
        "colab": {
          "base_uri": "https://localhost:8080/"
        },
        "id": "y1IG0r7tduBH",
        "outputId": "74d35d9c-ad1b-41b8-b45c-c447326aa3ce"
      },
      "source": [
        "thisdict =\t{\n",
        "  \"brand\": \"Ford\",\n",
        "  \"model\": \"Mustang\",\n",
        "  \"year\": 1964\n",
        "}\n",
        "print(thisdict)\n",
        "for key,value in thisdict.items():\n",
        "  print(key,value)\n",
        "  \n",
        "# to print keys only\n",
        "  print(key)\n",
        " \n"
      ],
      "execution_count": null,
      "outputs": [
        {
          "output_type": "stream",
          "text": [
            "{'brand': 'Ford', 'model': 'Mustang', 'year': 1964}\n",
            "brand Ford\n",
            "brand\n",
            "model Mustang\n",
            "model\n",
            "year 1964\n",
            "year\n"
          ],
          "name": "stdout"
        }
      ]
    },
    {
      "cell_type": "code",
      "metadata": {
        "colab": {
          "base_uri": "https://localhost:8080/"
        },
        "id": "WDDCj--ndTRT",
        "outputId": "3c634822-6f2f-4226-fb58-40c9fc508cba"
      },
      "source": [
        "#Loop Through a Dictionary\n",
        "#You can loop through a dictionary by using a for loop.\n",
        "\n",
        "thisdict =\t{\n",
        "  \"name\": \"Ford\",\n",
        "  \"Last_Name\": \"baker\",\n",
        "  \"mrn\": \"023432\",\n",
        "  \"db\": \"1981/04/09\"\n",
        "}\n",
        "for key,value in thisdict.items():\n",
        "  print(\"\\nkey:\" + key)\n",
        "  print(\"\\nvalue:\" + value)\n"
      ],
      "execution_count": null,
      "outputs": [
        {
          "output_type": "stream",
          "text": [
            "\n",
            "key:name\n",
            "\n",
            "value:Ford\n",
            "\n",
            "key:Last_Name\n",
            "\n",
            "value:baker\n",
            "\n",
            "key:mrn\n",
            "\n",
            "value:023432\n",
            "\n",
            "key:db\n",
            "\n",
            "value:1981/04/09\n"
          ],
          "name": "stdout"
        }
      ]
    },
    {
      "cell_type": "code",
      "metadata": {
        "colab": {
          "base_uri": "https://localhost:8080/"
        },
        "id": "53tfwfnIvOZ8",
        "outputId": "857289d8-85bc-4be8-ec19-51a3db96da8f"
      },
      "source": [
        "friend_ages =\t{\n",
        "  \"nick\": \"30\",\n",
        "  \"john\": \"25\",\n",
        "  \"sali\": \"43\",\n",
        "  \"dan\": \"33\"}\n",
        "fav_friend= [\"nick\",\"hop\"] \n",
        "for name in friend_ages.keys():\n",
        "  print(name.title())\n",
        "\n",
        "  if name in fav_friend:\n",
        " \n",
        "     print('Hi '+name.title() +\", I see you are \" + friend_ages[name])"
      ],
      "execution_count": null,
      "outputs": [
        {
          "output_type": "stream",
          "name": "stdout",
          "text": [
            "Nick\n",
            "Hi Nick, I see you are 30\n",
            "John\n",
            "Sali\n",
            "Dan\n"
          ]
        }
      ]
    },
    {
      "cell_type": "markdown",
      "metadata": {
        "id": "dYe59uh14qtt"
      },
      "source": [
        "'While' loop\n",
        "* Python has two primitive loop commands: 'while' loops, 'for' loops\n",
        "* With the while loop we can execute a set of statements as long as a condition is true."
      ]
    },
    {
      "cell_type": "code",
      "metadata": {
        "colab": {
          "base_uri": "https://localhost:8080/"
        },
        "id": "c4zHni5X4uJ1",
        "outputId": "86a16471-1ad1-4255-8fce-5c497a93d4c4"
      },
      "source": [
        "#while i is less than 6, print i+1, otherwise, print that i is no longer less than 6\n",
        "i = 1\n",
        "while i < 6:\n",
        "  print(i)\n",
        "  i += 1\n",
        "else:\n",
        "  print(\"i is no longer less than 6\")"
      ],
      "execution_count": null,
      "outputs": [
        {
          "output_type": "stream",
          "name": "stdout",
          "text": [
            "1\n",
            "2\n",
            "3\n",
            "4\n",
            "5\n",
            "i is no longer less than 6\n"
          ]
        }
      ]
    },
    {
      "cell_type": "markdown",
      "metadata": {
        "id": "ffpXfKBK5RYO"
      },
      "source": [
        "User Input\n",
        "Python allows for user input.\n",
        "That means we are able to ask the user for input.\n",
        "The method is a bit different in Python 3.6 than Python 2.7.\n",
        "Python 3.6 uses the input() method."
      ]
    },
    {
      "cell_type": "code",
      "metadata": {
        "colab": {
          "base_uri": "https://localhost:8080/"
        },
        "id": "aSfcR1Dp5QC5",
        "outputId": "0deb376f-a3eb-4d99-e389-33575c45881c"
      },
      "source": [
        "username = input(\"Enter username:\")\n",
        "print(\"Username is: \" + username)"
      ],
      "execution_count": null,
      "outputs": [
        {
          "output_type": "stream",
          "name": "stdout",
          "text": [
            "Enter username:John\n",
            "Username is: John\n"
          ]
        }
      ]
    },
    {
      "cell_type": "code",
      "metadata": {
        "colab": {
          "base_uri": "https://localhost:8080/"
        },
        "id": "UdSOaMPu6FfQ",
        "outputId": "630a35e8-86ca-4aa7-c892-6794ab39f079"
      },
      "source": [
        "prompt=\"input a message. i will repeat it until you type 'quit'\"\n",
        "message=\"\"\n",
        "\n",
        "while message !='quit':                     #prompt is said if not equal to 'quit'\n",
        "  message = input(prompt)\n",
        "  print(message)"
      ],
      "execution_count": null,
      "outputs": [
        {
          "output_type": "stream",
          "name": "stdout",
          "text": [
            "input a message. i will repeat it until you type 'quit'dsdfd\n",
            "dsdfd\n",
            "input a message. i will repeat it until you type 'quit'gfgtr\n",
            "gfgtr\n",
            "input a message. i will repeat it until you type 'quit'quit\n",
            "quit\n"
          ]
        }
      ]
    },
    {
      "cell_type": "code",
      "source": [
        "login_message = \"Password incorrect. Please type the correct password\"\n",
        "password = 'dsjkdfhhkc'                 #doesn't matter what the string is\n",
        "while password !='ilovepython':\n",
        "  password=input(login_message)\n",
        "  print(password)"
      ],
      "metadata": {
        "colab": {
          "base_uri": "https://localhost:8080/"
        },
        "id": "MC--s-TVpQO_",
        "outputId": "84c7c31f-7563-48d5-9d93-05ce3c51147f"
      },
      "execution_count": null,
      "outputs": [
        {
          "output_type": "stream",
          "name": "stdout",
          "text": [
            "Password incorrect. Please type the correct passwordfsakjgraklf\n",
            "fsakjgraklf\n",
            "Password incorrect. Please type the correct passwordjagsfks\n",
            "jagsfks\n",
            "Password incorrect. Please type the correct passwordilovepython\n",
            "ilovepython\n"
          ]
        }
      ]
    },
    {
      "cell_type": "markdown",
      "metadata": {
        "id": "LipDh3v3AaUh"
      },
      "source": [
        "Creating a Function\n",
        "In Python a function is defined using the def keyword:\n",
        "\n"
      ]
    },
    {
      "cell_type": "code",
      "metadata": {
        "id": "qKjbpzmaAfQk"
      },
      "source": [
        "#Example creating a function is the first step\n",
        "#Function isn't called so nothing is printed\n",
        "def my_function():\n",
        "  print(\"Hello from a function\")"
      ],
      "execution_count": null,
      "outputs": []
    },
    {
      "cell_type": "code",
      "metadata": {
        "colab": {
          "base_uri": "https://localhost:8080/"
        },
        "id": "f4Vil56NAwdq",
        "outputId": "8e71553f-4e38-41b1-a950-12b20c0eec3d"
      },
      "source": [
        "#Calling a Function\n",
        "#To call a function, use the function name followed by parenthesis:\n",
        "\n",
        "#Example\n",
        "def my_function():\n",
        "  print(\"Hello from a function\")\n",
        "\n",
        "#Do not indent\n",
        "#Called but not defined because nothing is in parenthesis\n",
        "my_function()"
      ],
      "execution_count": null,
      "outputs": [
        {
          "output_type": "stream",
          "name": "stdout",
          "text": [
            "Hello from a function\n"
          ]
        }
      ]
    },
    {
      "cell_type": "code",
      "source": [
        "#Example\n",
        "def my_function(age):\n",
        "  print(\"Hello from a function \"+str(age)+\" years old\")\n",
        "\n",
        "age = 33\n",
        "my_function(age)"
      ],
      "metadata": {
        "colab": {
          "base_uri": "https://localhost:8080/"
        },
        "id": "2QTm1KFQkRXg",
        "outputId": "a3b05de4-27d1-43d8-b82a-c6ad50fded69"
      },
      "execution_count": null,
      "outputs": [
        {
          "output_type": "stream",
          "name": "stdout",
          "text": [
            "Hello from a function 33 years old\n"
          ]
        }
      ]
    },
    {
      "cell_type": "code",
      "metadata": {
        "colab": {
          "base_uri": "https://localhost:8080/"
        },
        "id": "RJpBBVj65M6H",
        "outputId": "17eb12b9-4cfe-4337-c10e-87c858b83887"
      },
      "source": [
        "def my_function(age):\n",
        "  \"\"\"This function add up name\"\"\"\n",
        "  text = \"My name is john, and I am {} years old\"\n",
        "  print(text.format(age))\n",
        "\n",
        "\n",
        "age = 36\n",
        "my_function(age)"
      ],
      "execution_count": null,
      "outputs": [
        {
          "output_type": "stream",
          "name": "stdout",
          "text": [
            "My name is john, and I am 36 years old\n"
          ]
        }
      ]
    },
    {
      "cell_type": "code",
      "source": [
        "def my_function(age):\n",
        "  \"\"\"This function add up namea\"\"\"\n",
        "  text = \"My name is john, and I am {} years old\"\n",
        "  print(text.format(age))\n",
        "  print(\"My name is john, and I am\" + str(age) +\"years old\")\n",
        "age=33\n",
        "my_function(age)"
      ],
      "metadata": {
        "id": "IrpVJvFZoDdh"
      },
      "execution_count": null,
      "outputs": []
    },
    {
      "cell_type": "code",
      "metadata": {
        "colab": {
          "base_uri": "https://localhost:8080/"
        },
        "id": "hp3bZP4zBAwe",
        "outputId": "352baeff-320c-4679-996d-6b06eb939ce6"
      },
      "source": [
        "#Information can be passed into functions as arguments.\n",
        "def my_function(fname):\n",
        "#Things in parentheses are 'arguments'.\n",
        "  \"This function add up name\"\n",
        "  print(fname + \" Refsnes\")\n",
        "\n",
        "my_function(\"Emil\")\n",
        "my_function(\"Tobias\")\n",
        "my_function(\"Linus\")"
      ],
      "execution_count": null,
      "outputs": [
        {
          "output_type": "stream",
          "name": "stdout",
          "text": [
            "Emil Refsnes\n",
            "Tobias Refsnes\n",
            "Linus Refsnes\n"
          ]
        }
      ]
    },
    {
      "cell_type": "code",
      "source": [
        "#If the number of keyword arguments is unknown, add a double ** before the parameter name:\n",
        "\n",
        "def my_function(**kid):\n",
        "  print(\"His last name is \" + kid[\"lname\"])\n",
        "\n",
        "my_function(fname = \"Tobias\", lname = \"Refsnes\")"
      ],
      "metadata": {
        "id": "6wwbhPp3n8xh",
        "colab": {
          "base_uri": "https://localhost:8080/"
        },
        "outputId": "c78a695c-3e94-4b39-a44d-fdb283d4e36c"
      },
      "execution_count": null,
      "outputs": [
        {
          "output_type": "stream",
          "name": "stdout",
          "text": [
            "His last name is Refsnes\n"
          ]
        }
      ]
    },
    {
      "cell_type": "code",
      "metadata": {
        "colab": {
          "base_uri": "https://localhost:8080/"
        },
        "id": "m9K0lvyqFFPB",
        "outputId": "964c306e-7d9c-4997-ede8-3ae64bf1dcde"
      },
      "source": [
        "#Lec 7 mini project odd,even\n",
        "#First way using .format()\n",
        "\n",
        "#num is an integer, and input \"Enter a number:\"\n",
        "num = int(input(\"Enter a number: \"))\n",
        "#if-else statement\n",
        "#.format value of num which is an integer to be mixed as a string\n",
        "#num will be a string value now\n",
        "if (num % 2) == 0:\n",
        "   print(num,\"is Even\".format(num))\n",
        "else:\n",
        "   print(num ,\"is Odd\".format(num))\n"
      ],
      "execution_count": null,
      "outputs": [
        {
          "output_type": "stream",
          "name": "stdout",
          "text": [
            "Enter a number: 7\n",
            "7 is Odd\n"
          ]
        }
      ]
    },
    {
      "cell_type": "code",
      "source": [
        "#Lec 7 mini project odd,even\n",
        "#Second way using str()\n",
        "\n",
        "#num is an integer, and input \"Enter a number:\"\n",
        "num = int(input(\"Enter a number: \"))\n",
        "#if-else statement\n",
        "if (num % 2) == 0:\n",
        "   print(str(num),\"is Even\")\n",
        "else:\n",
        "   print(str(num) ,\"is Odd\")\n"
      ],
      "metadata": {
        "colab": {
          "base_uri": "https://localhost:8080/"
        },
        "id": "edRQq4dClTw-",
        "outputId": "874e9eb6-d50b-4527-81ec-318ed8e66487"
      },
      "execution_count": null,
      "outputs": [
        {
          "output_type": "stream",
          "name": "stdout",
          "text": [
            "Enter a number: 3\n",
            "3 is Odd\n"
          ]
        }
      ]
    },
    {
      "cell_type": "code",
      "source": [
        "def my_func(x):\n",
        "  return 5*x \n",
        "  #return function used to send the function's result back to the caller.\n",
        "print(my_func(3))\n",
        "print(my_func(5))"
      ],
      "metadata": {
        "colab": {
          "base_uri": "https://localhost:8080/"
        },
        "id": "_DzxNEL7ly2K",
        "outputId": "23c03605-1de9-40bd-d9e0-13c6c83cf5a8"
      },
      "execution_count": null,
      "outputs": [
        {
          "output_type": "stream",
          "name": "stdout",
          "text": [
            "15\n",
            "25\n"
          ]
        }
      ]
    },
    {
      "cell_type": "code",
      "source": [
        "#myfunc() can be any name, but can't be empty\n",
        "\n",
        "def my_func(food):\n",
        "  for x in food:\n",
        "    print(x)\n",
        "\n",
        "fruits = ['apple','bananas','cherry']\n",
        "my_func(fruits)"
      ],
      "metadata": {
        "colab": {
          "base_uri": "https://localhost:8080/"
        },
        "id": "HmRcJyIFl8vT",
        "outputId": "a755ad12-16e7-4148-bd96-a578ecf01e1f"
      },
      "execution_count": null,
      "outputs": [
        {
          "output_type": "stream",
          "name": "stdout",
          "text": [
            "apple\n",
            "bananas\n",
            "cherry\n"
          ]
        }
      ]
    },
    {
      "cell_type": "code",
      "source": [
        "#my_func() cannot be empty. We will get an error.\n",
        "#Error states that it takes 0 positional arguments but 1 was given.\n",
        "def my_func():\n",
        "  for x in food:\n",
        "    print(x)\n",
        "\n",
        "fruits = ['apple','bananas','cherry']\n",
        "my_func(fruits)"
      ],
      "metadata": {
        "colab": {
          "base_uri": "https://localhost:8080/",
          "height": 200
        },
        "id": "kWzDy-fNnKdA",
        "outputId": "d0eda5a5-9db4-4489-991e-a5eaf9e4d321"
      },
      "execution_count": null,
      "outputs": [
        {
          "output_type": "error",
          "ename": "TypeError",
          "evalue": "ignored",
          "traceback": [
            "\u001b[0;31m---------------------------------------------------------------------------\u001b[0m",
            "\u001b[0;31mTypeError\u001b[0m                                 Traceback (most recent call last)",
            "\u001b[0;32m<ipython-input-23-332595d61ceb>\u001b[0m in \u001b[0;36m<module>\u001b[0;34m()\u001b[0m\n\u001b[1;32m      4\u001b[0m \u001b[0;34m\u001b[0m\u001b[0m\n\u001b[1;32m      5\u001b[0m \u001b[0mfruits\u001b[0m \u001b[0;34m=\u001b[0m \u001b[0;34m[\u001b[0m\u001b[0;34m'apple'\u001b[0m\u001b[0;34m,\u001b[0m\u001b[0;34m'bananas'\u001b[0m\u001b[0;34m,\u001b[0m\u001b[0;34m'cherry'\u001b[0m\u001b[0;34m]\u001b[0m\u001b[0;34m\u001b[0m\u001b[0;34m\u001b[0m\u001b[0m\n\u001b[0;32m----> 6\u001b[0;31m \u001b[0mmy_func\u001b[0m\u001b[0;34m(\u001b[0m\u001b[0mfruits\u001b[0m\u001b[0;34m)\u001b[0m\u001b[0;34m\u001b[0m\u001b[0;34m\u001b[0m\u001b[0m\n\u001b[0m",
            "\u001b[0;31mTypeError\u001b[0m: my_func() takes 0 positional arguments but 1 was given"
          ]
        }
      ]
    },
    {
      "cell_type": "code",
      "source": [
        "def my_func(food):\n",
        "  for x in food:\n",
        "    print(x)\n",
        "\n",
        "fruits = ['apple','bananas','cherry']\n",
        "my_func(fruits)"
      ],
      "metadata": {
        "id": "BtAAcHWinEUt",
        "colab": {
          "base_uri": "https://localhost:8080/"
        },
        "outputId": "e5dda200-2daa-44d2-85a7-786dc17524ad"
      },
      "execution_count": null,
      "outputs": [
        {
          "output_type": "stream",
          "name": "stdout",
          "text": [
            "apple\n",
            "bananas\n",
            "cherry\n"
          ]
        }
      ]
    },
    {
      "cell_type": "code",
      "metadata": {
        "colab": {
          "base_uri": "https://localhost:8080/"
        },
        "id": "UBO7C6z2JAnC",
        "outputId": "ba9ec929-3658-4def-f545-4e29b9fac1fd"
      },
      "source": [
        "#tell if a number dividable by 4\n",
        "def multiple(m, n):\n",
        "\treturn True if m % n == 0 else False\n",
        "m = int(input(\"Enter a number: \"))\n",
        "print(multiple(m, 4))\n"
      ],
      "execution_count": null,
      "outputs": [
        {
          "output_type": "stream",
          "name": "stdout",
          "text": [
            "Enter a number: 8\n",
            "True\n"
          ]
        }
      ]
    },
    {
      "cell_type": "code",
      "source": [
        "#country has a default value set\n",
        "def my_function(country = \"Norway\"):\n",
        "  print(\"I am from \" + country)\n",
        "\n",
        "my_function(\"Sweden\")\n",
        "my_function(\"India\")\n",
        "my_function()\n",
        "my_function(\"Brazil\")\n"
      ],
      "metadata": {
        "colab": {
          "base_uri": "https://localhost:8080/"
        },
        "id": "rwxohNFXn1Ls",
        "outputId": "ce153c67-96fd-4fcc-be91-ffe7f36e3392"
      },
      "execution_count": null,
      "outputs": [
        {
          "output_type": "stream",
          "name": "stdout",
          "text": [
            "I am from Sweden\n",
            "I am from India\n",
            "I am from Norway\n",
            "I am from Brazil\n"
          ]
        }
      ]
    },
    {
      "cell_type": "code",
      "source": [
        "def my_function(state , country = \"United States\"):\n",
        "  print(\"This state , \" + state + \" , is in the \" + country)\n",
        "\n",
        "my_function(\"New York\")\n",
        "my_function(\"New Jersey\")\n",
        "my_function(\"Florida\")"
      ],
      "metadata": {
        "id": "7n-u9mKQfmhR"
      },
      "execution_count": null,
      "outputs": []
    },
    {
      "cell_type": "code",
      "source": [
        " while True:\n",
        "   #Enter [input(\" \")] an integer [int()]\n",
        "        entry=int(input('Enter a number or 0 to quit:'))\n",
        "        if entry % 2 == 0:\n",
        "            print (format (entry), 'is an even number.')\n",
        "        else:\n",
        "            print (format (entry),'is an odd number.')\n",
        "\n",
        "        if entry == 0:\n",
        "            print ('All done!')\n",
        "            break"
      ],
      "metadata": {
        "colab": {
          "base_uri": "https://localhost:8080/"
        },
        "id": "summqxYqfpI4",
        "outputId": "a74a9413-18af-4515-c2a5-655dd4b5ccc0"
      },
      "execution_count": null,
      "outputs": [
        {
          "output_type": "stream",
          "name": "stdout",
          "text": [
            "Enter a number or 0 to quit:0\n",
            "0 is an even number.\n",
            "All done!\n"
          ]
        }
      ]
    },
    {
      "cell_type": "code",
      "source": [
        "#Mini project bonus\n",
        "\n",
        "#Part 1\n",
        "#Create a function to input a number\n",
        "def main():\n",
        "    number = get_number() \n",
        "#two if statements for even\n",
        "    if(number  % 2 == 0):\n",
        "        print(\"Even number\")\n",
        "        if(number % 4 == 0):\n",
        "           print(\"Even number and multiple of 4\")\n",
        "\n",
        "#else statement for odd\n",
        "    else:\n",
        "        print(\"Odd number\")\n",
        "#Print 2 numbers\n",
        "    number2,number3= get_number() , get_number()\n",
        "\n",
        "#Part two\n",
        "    if (number2 % number3 == 0):\n",
        "#{} formats output, integer in string\n",
        "        print(\"{} evenly divides {}\".format(number2,number3))\n",
        "    else:\n",
        "        print(\"{} not evenly divides by {}\".format(number2,number3))\n",
        "def get_number():\n",
        "       return int(input(\"Enter a number \"))\n",
        "main()"
      ],
      "metadata": {
        "colab": {
          "base_uri": "https://localhost:8080/"
        },
        "id": "zfD6nLfFfq7x",
        "outputId": "c400d76b-4159-48b9-fef8-3ed924336137"
      },
      "execution_count": null,
      "outputs": [
        {
          "output_type": "stream",
          "name": "stdout",
          "text": [
            "Enter a number 5\n",
            "Odd number\n",
            "Enter a number 2\n",
            "Enter a number 1\n",
            "2 evenly divides 1\n"
          ]
        }
      ]
    }
  ]
}