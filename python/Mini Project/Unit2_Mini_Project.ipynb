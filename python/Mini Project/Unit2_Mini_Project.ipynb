{
  "nbformat": 4,
  "nbformat_minor": 0,
  "metadata": {
    "colab": {
      "name": "Unit2_Mini_Project.ipynb",
      "provenance": [],
      "collapsed_sections": [],
      "toc_visible": true,
      "include_colab_link": true
    },
    "kernelspec": {
      "name": "python3",
      "display_name": "Python 3"
    }
  },
  "cells": [
    {
      "cell_type": "markdown",
      "metadata": {
        "id": "view-in-github",
        "colab_type": "text"
      },
      "source": [
        "<a href=\"https://colab.research.google.com/github/emilychiu7/micro_cred_da_winter_2022/blob/main/python/Mini%20Project/Unit2_Mini_Project.ipynb\" target=\"_parent\"><img src=\"https://colab.research.google.com/assets/colab-badge.svg\" alt=\"Open In Colab\"/></a>"
      ]
    },
    {
      "cell_type": "markdown",
      "metadata": {
        "id": "Vgs8Kp4TidFQ"
      },
      "source": [
        "# Introduction to Python Unit 2 - Mini Project\n",
        "Emily Chiu"
      ]
    },
    {
      "cell_type": "markdown",
      "metadata": {
        "id": "_Hq7Ny79iwgD"
      },
      "source": [
        "#Python Project – Odd or Even\n",
        "\n",
        "Ask the user for a number. Depending on whether the number is even or odd, print out an appropriate message to the user. Hint: how does an even / odd number react differently when divided by 2?\n"
      ]
    },
    {
      "cell_type": "code",
      "metadata": {
        "colab": {
          "base_uri": "https://localhost:8080/"
        },
        "id": "m9K0lvyqFFPB",
        "outputId": "cda75ee4-54e0-48af-c605-62f4032670c2"
      },
      "source": [
        "#Prompt a message for the output\n",
        "#Create a variable to hold that number\n",
        "num = int(input(\"Enter a number: \"))\n",
        "#Output a message when the number is even using mod.\n",
        "#Set an if-else statement.\n",
        "if num % 2 == 0:\n",
        "   print(num,\"is an even number.\")\n",
        "else:\n",
        "   print(num,\"is odd number.\")\n"
      ],
      "execution_count": 113,
      "outputs": [
        {
          "output_type": "stream",
          "name": "stdout",
          "text": [
            "Enter a number: 54\n",
            "54 is an even number.\n"
          ]
        }
      ]
    },
    {
      "cell_type": "markdown",
      "metadata": {
        "id": "io_27RSlizno"
      },
      "source": [
        "# Bonus:\n",
        "\n",
        "1.\tIf the number is a multiple of 4, print out a different message.\n",
        "\n",
        "2.\tAsk the user for two numbers: one number to check (call it num) and one number to divide by (check). If check divides evenly into num, tell that to the user. If not, print a different appropriate message.\n"
      ]
    },
    {
      "cell_type": "code",
      "source": [
        "#1\n",
        "#Input the first message.\n",
        "num=int(input(\"Enter a number \"))\n",
        "#Set an if-else statement with the mod operator.\n",
        "if num % 4 == 0:\n",
        "   print(num,\"is a multiple of 4.\")\n",
        "else:\n",
        "   print(num,\"is not a multiple of 4.\")"
      ],
      "metadata": {
        "colab": {
          "base_uri": "https://localhost:8080/"
        },
        "id": "fYgGjeCJYAT0",
        "outputId": "5e0a6662-6a4e-4a51-98a8-f355b7fc5700"
      },
      "execution_count": 110,
      "outputs": [
        {
          "output_type": "stream",
          "name": "stdout",
          "text": [
            "Enter a number 546\n",
            "546 is not a multiple of 4.\n"
          ]
        }
      ]
    },
    {
      "cell_type": "code",
      "source": [
        "#2\n",
        "#Input the first message to enter the first number.\n",
        "num = int(input(\"Please insert a number: \"))\n",
        "#Input the second message for the second number.\n",
        "check = int(input(\"Please insert a second number to divide by: \"))\n",
        "#Set an if-else statement using the mod operator.\n",
        "if num % check ==0:\n",
        "  print(\"These numbers divides evenly.\")\n",
        "else:\n",
        "  print(\"These numbers do not divide evenly.\")"
      ],
      "metadata": {
        "colab": {
          "base_uri": "https://localhost:8080/"
        },
        "id": "OfLIbChXXiyu",
        "outputId": "0b72475d-c2d4-4fd8-9b76-8a77ab926d80"
      },
      "execution_count": 112,
      "outputs": [
        {
          "output_type": "stream",
          "name": "stdout",
          "text": [
            "Please insert a number: 56464\n",
            "Please insert a second number to divide by: 4\n",
            "These numbers divides evenly.\n"
          ]
        }
      ]
    }
  ]
}