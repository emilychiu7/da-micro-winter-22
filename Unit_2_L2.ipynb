{
  "nbformat": 4,
  "nbformat_minor": 0,
  "metadata": {
    "colab": {
      "name": "Unit 2_L2",
      "provenance": [],
      "authorship_tag": "ABX9TyM9Yfe4Um/iqfs+NIfmvgWS",
      "include_colab_link": true
    },
    "kernelspec": {
      "name": "python3",
      "display_name": "Python 3"
    },
    "language_info": {
      "name": "python"
    }
  },
  "cells": [
    {
      "cell_type": "markdown",
      "metadata": {
        "id": "view-in-github",
        "colab_type": "text"
      },
      "source": [
        "<a href=\"https://colab.research.google.com/github/emilychiu7/micro_cred_winter_2022/blob/main/Unit_2_L2.ipynb\" target=\"_parent\"><img src=\"https://colab.research.google.com/assets/colab-badge.svg\" alt=\"Open In Colab\"/></a>"
      ]
    },
    {
      "cell_type": "markdown",
      "source": [
        "Name: Emily Chiu\n",
        "\n",
        "Python for Data Analytics"
      ],
      "metadata": {
        "id": "3TFBis82Gc_1"
      }
    },
    {
      "cell_type": "markdown",
      "source": [
        "1. What is Python and why is it useful?"
      ],
      "metadata": {
        "id": "citdg54bHAe5"
      }
    },
    {
      "cell_type": "markdown",
      "source": [
        "Python is an open-source,high-level programming, scripting language that combines object-oriented and functional programming. It is unique and useful because it is strong and dynamic. It has every variable as an object, and focuses on reliability and productivity. It contains extensive libraries and is conducted by line-by-line codes, making it easier to perform data analytics. Python can work on very large datasets, perform complex operations, and can be saved and run again at convenience."
      ],
      "metadata": {
        "id": "W-43F0efKacY"
      }
    },
    {
      "cell_type": "markdown",
      "source": [
        "2.\tAre the following variable names allowed in python?\n",
        "\n",
        "a.\t1_message\n",
        "\n",
        "b.\tGreeting_message\n",
        "\n",
        "c.\tMessage_1\n",
        "\n",
        "d.\tFirst name\n",
        "\n",
        "e.\tFull_name\n"
      ],
      "metadata": {
        "id": "HeXOyymnHEhX"
      }
    },
    {
      "cell_type": "markdown",
      "source": [
        "ANSWER: (b), (c), and (e) are valid variables. Choices (a) and (d) are not valid. For (a), a variable cannot start with a number. For (d), variables cannot have a space in it."
      ],
      "metadata": {
        "id": "QUFL6crzJzcA"
      }
    },
    {
      "cell_type": "markdown",
      "source": [
        "\n",
        "3.\tCreate a variable that holds the string “hello there!”\n"
      ],
      "metadata": {
        "id": "UwnNhcrYHaLY"
      }
    },
    {
      "cell_type": "code",
      "source": [
        "print(\"hello\"+\" \"+\"there\"+\"!\")"
      ],
      "metadata": {
        "colab": {
          "base_uri": "https://localhost:8080/"
        },
        "id": "k4oyf3F1IGgm",
        "outputId": "4de5bf69-bedf-4018-ec9a-267fa0c407c3"
      },
      "execution_count": 2,
      "outputs": [
        {
          "output_type": "stream",
          "name": "stdout",
          "text": [
            "hello there!\n"
          ]
        }
      ]
    },
    {
      "cell_type": "markdown",
      "source": [
        "4.\tCreate a variable for first name, last name and an email extension.  Concatenating all three together to form an email address. For example: firstnamelastname@gmail.com"
      ],
      "metadata": {
        "id": "Cf0CTxJRHeJl"
      }
    },
    {
      "cell_type": "code",
      "source": [
        "first_name ='emily'\n",
        "last_name ='chiu'\n",
        "e_mail ='@gmail.com'\n",
        "print(first_name+last_name+e_mail)"
      ],
      "metadata": {
        "colab": {
          "base_uri": "https://localhost:8080/"
        },
        "id": "tjqJ0R1UITRm",
        "outputId": "670e7070-7441-4bb2-af36-0c08683fdcd8"
      },
      "execution_count": 3,
      "outputs": [
        {
          "output_type": "stream",
          "name": "stdout",
          "text": [
            "emilychiu@gmail.com\n"
          ]
        }
      ]
    },
    {
      "cell_type": "markdown",
      "source": [
        "5.\tStore someone you know name in a variable called name.  Print their name in lower and uppercase using a method."
      ],
      "metadata": {
        "id": "KNMg9OJOHgGH"
      }
    },
    {
      "cell_type": "code",
      "source": [
        "name = 'Thanos'\n",
        "print(name)\n",
        "print(name.upper())\n",
        "print(name.lower())"
      ],
      "metadata": {
        "colab": {
          "base_uri": "https://localhost:8080/"
        },
        "id": "LXdEPKuQIpfA",
        "outputId": "c0a01614-5d1f-4dc5-b290-231f6d8ad335"
      },
      "execution_count": 9,
      "outputs": [
        {
          "output_type": "stream",
          "name": "stdout",
          "text": [
            "THANOS\n",
            "thanos\n"
          ]
        }
      ]
    },
    {
      "cell_type": "markdown",
      "source": [
        "6.\tUsing a variable, ask your friend if they want to hang out on the 15th of the month.  For example, “Do you want to hang out on the 15th of this month?”  You should have to convert the number to a string."
      ],
      "metadata": {
        "id": "ll8RusQxHhfg"
      }
    },
    {
      "cell_type": "code",
      "source": [
        "name = 'Thanos'\n",
        "print(name+','+' do you want to hang out on the 15th of this month?')"
      ],
      "metadata": {
        "colab": {
          "base_uri": "https://localhost:8080/"
        },
        "id": "XY7QWIypI4dC",
        "outputId": "c86bc588-4b4e-4acc-eddb-4b588b119164"
      },
      "execution_count": 12,
      "outputs": [
        {
          "output_type": "stream",
          "name": "stdout",
          "text": [
            "Thanos, do you want to hang out on the 15th of this month?\n"
          ]
        }
      ]
    }
  ]
}